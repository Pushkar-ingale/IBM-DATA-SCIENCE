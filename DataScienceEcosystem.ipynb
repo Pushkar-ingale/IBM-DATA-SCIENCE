{
 "cells": [
  {
   "cell_type": "markdown",
   "id": "5428395f-de45-45dd-ba41-d0bfbf56bd9e",
   "metadata": {},
   "source": [
    "# Data Science Tools and Concepts\n"
   ]
  },
  {
   "cell_type": "markdown",
   "id": "32e5feae-abf7-48d4-9bd3-24563beae9c7",
   "metadata": {},
   "source": [
    "## Introduction\n",
    "In this notebook, Data Science Tools and Ecosystem are summarized.\n"
   ]
  },
  {
   "cell_type": "markdown",
   "id": "93e4f7e7-14de-4241-872c-ba8ec5d06906",
   "metadata": {},
   "source": [
    "## Data Science Languages\n",
    "Some of the popular languages that Data Scientists use are:\n",
    "1. Python\n",
    "2. R\n",
    "3. SQL\n",
    "4. Java\n",
    "5. Julia\n"
   ]
  },
  {
   "cell_type": "markdown",
   "id": "9a4e98ec-bb36-4adc-bff8-eb678b102b7d",
   "metadata": {},
   "source": [
    "## Data Science Libraries\n",
    "Some of the commonly used libraries used by Data Scientists include:\n",
    "1. NumPy\n",
    "2. Pandas\n",
    "3. Matplotlib\n",
    "4. Scikit-learn\n",
    "5. TensorFlow\n"
   ]
  },
  {
   "cell_type": "markdown",
   "id": "2083560f-3461-4cc2-a215-fbcf024732da",
   "metadata": {},
   "source": [
    "## Data Science Tools\n",
    "| Data Science Tools    |\n",
    "|-----------------------|\n",
    "| Jupyter               |\n",
    "| RStudio               |\n",
    "| Apache Spark          |\n"
   ]
  },
  {
   "cell_type": "markdown",
   "id": "42678d19-7d6d-46ca-a36e-8b8ad38a6b2e",
   "metadata": {},
   "source": [
    "### Arithmetic Expression Examples\n",
    "Below are a few examples of evaluating arithmetic expressions in Python.\n"
   ]
  },
  {
   "cell_type": "code",
   "execution_count": 3,
   "id": "42cf5375-7634-4162-bf11-6b70b9a91bcf",
   "metadata": {},
   "outputs": [
    {
     "data": {
      "text/plain": [
       "17"
      ]
     },
     "execution_count": 3,
     "metadata": {},
     "output_type": "execute_result"
    }
   ],
   "source": [
    "# This is a simple arithmetic expression to multiply then add integers.\n",
    "result = (3 * 4) + 5\n",
    "result\n"
   ]
  },
  {
   "cell_type": "code",
   "execution_count": 4,
   "id": "7620f2b4-0018-4219-a905-05beb3645804",
   "metadata": {},
   "outputs": [
    {
     "data": {
      "text/plain": [
       "3.3333333333333335"
      ]
     },
     "execution_count": 4,
     "metadata": {},
     "output_type": "execute_result"
    }
   ],
   "source": [
    "# This will convert 200 minutes to hours by dividing by 60.\n",
    "minutes = 200\n",
    "hours = minutes / 60\n",
    "hours\n"
   ]
  },
  {
   "cell_type": "markdown",
   "id": "3c469052-16f2-4722-82a4-84efa2b69be5",
   "metadata": {},
   "source": [
    "## Objectives\n",
    "**Objectives:**\n",
    "- List popular languages for Data Science.\n",
    "- Identify commonly used libraries in Data Science.\n",
    "- Evaluate arithmetic expressions in Python.\n",
    "- Understand the basics of data science tools.\n"
   ]
  },
  {
   "cell_type": "markdown",
   "id": "61f6f43f-adc1-4318-bb38-f94047f08935",
   "metadata": {},
   "source": [
    "## Author\n",
    "Pushkar Ingale\n"
   ]
  },
  {
   "cell_type": "code",
   "execution_count": null,
   "id": "6151be7f-96e4-4278-a961-19e53e8baa88",
   "metadata": {},
   "outputs": [],
   "source": []
  }
 ],
 "metadata": {
  "kernelspec": {
   "display_name": "Python 3 (ipykernel)",
   "language": "python",
   "name": "python3"
  },
  "language_info": {
   "codemirror_mode": {
    "name": "ipython",
    "version": 3
   },
   "file_extension": ".py",
   "mimetype": "text/x-python",
   "name": "python",
   "nbconvert_exporter": "python",
   "pygments_lexer": "ipython3",
   "version": "3.11.4"
  }
 },
 "nbformat": 4,
 "nbformat_minor": 5
}
